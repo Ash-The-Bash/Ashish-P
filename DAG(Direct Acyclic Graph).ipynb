{
 "cells": [
  {
   "cell_type": "code",
   "execution_count": 39,
   "id": "d818240c",
   "metadata": {},
   "outputs": [
    {
     "name": "stdout",
     "output_type": "stream",
     "text": [
      "[0, 3, 2, 4, 1]\n"
     ]
    }
   ],
   "source": [
    "# this file is for Prof. David to review\n",
    "# referred to geeksforgeeks \n",
    "from collections import defaultdict\n",
    "class Graph:\n",
    "    def __init__(self, edges):\n",
    "        self.graph = defaultdict(list) \n",
    "        self.n = edges \n",
    " \n",
    "    \n",
    "    def Edge(self, u, v): # # function to add an edge to graph\n",
    "        self.graph[u].append(v)\n",
    " \n",
    " \n",
    "    def topologicalSort(self):\n",
    "         \n",
    "        in_degree = [0]*(self.n) # total number of lines attached from the higher node\n",
    "         \n",
    "    \n",
    "        for i in self.graph:\n",
    "            for j in self.graph[i]:\n",
    "                in_degree[j] += 1\n",
    " \n",
    "        queue = []\n",
    "        for i in range(self.n):\n",
    "            if in_degree[i] == 0:\n",
    "                queue.append(i)\n",
    " \n",
    "        visited_count = 0 # count of visited edges\n",
    "        order = []\n",
    " \n",
    "        while queue:\n",
    " \n",
    "            delete = queue.pop(0) # removes the item from the queue\n",
    "            order.append(delete)  # adds the item to the order array\n",
    " \n",
    "            for i in self.graph[delete]: # iterate through all neighbouring nodes\n",
    "                in_degree[i] -= 1\n",
    "                \n",
    "                if in_degree[i] == 0:\n",
    "                    queue.append(i)\n",
    " \n",
    "            visited_count += 1\n",
    " \n",
    "        print (order)\n",
    " \n",
    " \n",
    "    \n",
    "\n",
    "    \n",
    "graph = Graph(5) #Graph(n) n -> number of total nodes\n",
    "graph.Edge(0, 1);\n",
    "graph.Edge(0, 2);\n",
    "graph.Edge(2, 4);\n",
    "graph.Edge(3, 4);\n",
    "graph.Edge(4, 1);\n",
    " \n",
    "graph.topologicalSort()"
   ]
  },
  {
   "cell_type": "code",
   "execution_count": 59,
   "id": "ed756f9a",
   "metadata": {},
   "outputs": [
    {
     "name": "stdout",
     "output_type": "stream",
     "text": [
      "pass : the output is [0, 1, 2, 3, 4]\n",
      "[0, 1, 2, 3, 4]\n"
     ]
    }
   ],
   "source": [
    "# Testing\n",
    "class Graph:\n",
    "    def __init__(self, edges):\n",
    "        self.graph = defaultdict(list) \n",
    "        self.n = edges \n",
    " \n",
    "    def Edge(self, u, v):\n",
    "        self.graph[u].append(v)\n",
    " \n",
    "    def topological(self):\n",
    "         \n",
    "        in_degree = [0]*(self.n) \n",
    "         \n",
    "        for i in self.graph:\n",
    "            for j in self.graph[i]:\n",
    "                in_degree[j] += 1\n",
    " \n",
    "        queue = []\n",
    "        for i in range(self.n):\n",
    "            if in_degree[i] == 0:\n",
    "                queue.append(i)\n",
    " \n",
    "        visited_count = 0\n",
    "        order = []\n",
    " \n",
    "        while queue:\n",
    " \n",
    "            delete = queue.pop(0) \n",
    "            order.append(delete)  \n",
    " \n",
    "            for i in self.graph[delete]:\n",
    "                in_degree[i] -= 1\n",
    "                \n",
    "                if in_degree[i] == 0:\n",
    "                    queue.append(i)\n",
    " \n",
    "            visited_count += 1\n",
    "        \n",
    "        print (order)\n",
    "         \n",
    "graph = Graph(5)  # are linked in order for an obvious test output\n",
    "graph.Edge(0, 1);\n",
    "graph.Edge(1, 2);\n",
    "graph.Edge(2, 3);\n",
    "graph.Edge(3, 4);\n",
    "print(\"pass : the output is [0, 1, 2, 3, 4]\")\n",
    "graph.topological()"
   ]
  }
 ],
 "metadata": {
  "kernelspec": {
   "display_name": "Python 3 (ipykernel)",
   "language": "python",
   "name": "python3"
  },
  "language_info": {
   "codemirror_mode": {
    "name": "ipython",
    "version": 3
   },
   "file_extension": ".py",
   "mimetype": "text/x-python",
   "name": "python",
   "nbconvert_exporter": "python",
   "pygments_lexer": "ipython3",
   "version": "3.9.12"
  }
 },
 "nbformat": 4,
 "nbformat_minor": 5
}
