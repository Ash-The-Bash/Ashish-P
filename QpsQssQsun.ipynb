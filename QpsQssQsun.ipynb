{
  "nbformat": 4,
  "nbformat_minor": 0,
  "metadata": {
    "colab": {
      "name": "QpsQssQsun.ipynb",
      "provenance": [],
      "collapsed_sections": [],
      "include_colab_link": true
    },
    "kernelspec": {
      "name": "python3",
      "display_name": "Python 3"
    },
    "language_info": {
      "name": "python"
    }
  },
  "cells": [
    {
      "cell_type": "markdown",
      "metadata": {
        "id": "view-in-github",
        "colab_type": "text"
      },
      "source": [
        "<a href=\"https://colab.research.google.com/github/Ash-The-Bash/Ashish-P/blob/main/QpsQssQsun.ipynb\" target=\"_parent\"><img src=\"https://colab.research.google.com/assets/colab-badge.svg\" alt=\"Open In Colab\"/></a>"
      ]
    },
    {
      "cell_type": "code",
      "execution_count": null,
      "metadata": {
        "id": "X6cRzTAZAa_f"
      },
      "outputs": [],
      "source": [
        "from google.colab import drive"
      ]
    },
    {
      "cell_type": "code",
      "source": [
        "drive.mount('/content/drive')"
      ],
      "metadata": {
        "colab": {
          "base_uri": "https://localhost:8080/"
        },
        "id": "xOeA4TV2Aq-Q",
        "outputId": "1df3b66d-917e-4e22-cc7e-06433aa9bdd8"
      },
      "execution_count": null,
      "outputs": [
        {
          "output_type": "stream",
          "name": "stdout",
          "text": [
            "Mounted at /content/drive\n"
          ]
        }
      ]
    },
    {
      "cell_type": "code",
      "source": [
        "import pandas as pd\n",
        "file=pd.read_csv('/content/drive/MyDrive/data_25-Sep-2021.csv')"
      ],
      "metadata": {
        "id": "L9ZV63_SAyta"
      },
      "execution_count": null,
      "outputs": []
    },
    {
      "cell_type": "code",
      "source": [
        "#lets find the value of 'm'\n",
        "rho=1000;\n",
        "v=file['FT1_MES']\n",
        "m=v*rho;\n",
        "print(m);"
      ],
      "metadata": {
        "id": "d-9K2qH1BHkD",
        "colab": {
          "base_uri": "https://localhost:8080/"
        },
        "outputId": "a34aee23-1af8-497a-b549-2b355fb0fe05"
      },
      "execution_count": null,
      "outputs": [
        {
          "output_type": "stream",
          "name": "stdout",
          "text": [
            "0       2.531829\n",
            "1       2.965857\n",
            "2       2.604167\n",
            "3       2.748843\n",
            "4       2.748843\n",
            "          ...   \n",
            "1433    3.038194\n",
            "1434    3.038194\n",
            "1435    2.531829\n",
            "1436    2.893518\n",
            "1437    2.748843\n",
            "Name: FT1_MES, Length: 1438, dtype: float64\n"
          ]
        }
      ]
    },
    {
      "cell_type": "code",
      "source": [
        "#lets import numpy to use interpolation\n",
        "import numpy as np\n"
      ],
      "metadata": {
        "id": "TcbNGVlnBmTR"
      },
      "execution_count": null,
      "outputs": []
    },
    {
      "cell_type": "code",
      "source": [
        "#lets calculate DeltaTp for first data\n",
        "DeltaTp= file['TT1_C_MES'] - file['TT1_F_MES']\n",
        "print(DeltaTp);"
      ],
      "metadata": {
        "id": "OrSOU0SLB-W7",
        "colab": {
          "base_uri": "https://localhost:8080/"
        },
        "outputId": "c99cf0e9-8bf1-45fc-cb25-efb6a4673ce6"
      },
      "execution_count": null,
      "outputs": [
        {
          "output_type": "stream",
          "name": "stdout",
          "text": [
            "0       0.799999\n",
            "1       0.799999\n",
            "2       0.799999\n",
            "3       0.799999\n",
            "4       0.799999\n",
            "          ...   \n",
            "1433    0.500000\n",
            "1434    0.500000\n",
            "1435    0.500000\n",
            "1436    0.600000\n",
            "1437    0.500000\n",
            "Length: 1438, dtype: float64\n"
          ]
        }
      ]
    },
    {
      "cell_type": "code",
      "source": [
        "#lets define T Xq and CP and calculate Vq\n",
        "T=[-20,-10,0,10,20,30,40,50,60,70,80,90,100,110,120,130,140,150,160,170,180,190,200]\n",
        "cp=[3.26,3.34,3.42,3.50,3.58,3.66,3.74,3.82,3.90,3.98,4.06,4.14,4.22,4.31,4.39,4.47,4.55,4.63,4.71,4.79,4.88,4.96,5.04]\n",
        "Xq=DeltaTp;\n",
        "Vq=np.interp(Xq,T,cp);\n",
        "CP=Vq;\n",
        "print(CP);"
      ],
      "metadata": {
        "id": "uTQZQNsJEN_y",
        "colab": {
          "base_uri": "https://localhost:8080/"
        },
        "outputId": "43bd6d4d-b02c-4ac8-8cfb-a96b7d4dd172"
      },
      "execution_count": null,
      "outputs": [
        {
          "output_type": "stream",
          "name": "stdout",
          "text": [
            "[3.42639999 3.42639999 3.42639999 ... 3.424      3.4248     3.424     ]\n"
          ]
        }
      ]
    },
    {
      "cell_type": "code",
      "source": [
        "#lets find value of ms with new data\n",
        "rho=1000;\n",
        "v1=file['FT2_MES']\n",
        "ms=v1*rho;\n",
        "print(ms)"
      ],
      "metadata": {
        "id": "lgZFtWpQFRsA",
        "colab": {
          "base_uri": "https://localhost:8080/"
        },
        "outputId": "981485f8-0b82-48b1-f0c3-51fcbca28836"
      },
      "execution_count": null,
      "outputs": [
        {
          "output_type": "stream",
          "name": "stdout",
          "text": [
            "0       0.434028\n",
            "1       0.217014\n",
            "2       0.217014\n",
            "3       0.217014\n",
            "4       0.144676\n",
            "          ...   \n",
            "1433    0.434028\n",
            "1434    0.434028\n",
            "1435    0.434028\n",
            "1436    0.506366\n",
            "1437    0.506366\n",
            "Name: FT2_MES, Length: 1438, dtype: float64\n"
          ]
        }
      ]
    },
    {
      "cell_type": "code",
      "source": [
        "#lets calculate DeltaTs \n",
        "DeltaTs=file['TT2_C_MES'] - file['TT2_F_MES']"
      ],
      "metadata": {
        "id": "lMxvr9cFFxyD"
      },
      "execution_count": null,
      "outputs": []
    },
    {
      "cell_type": "code",
      "source": [
        "#lets define T Xq and CP and calculate Vq\n",
        "T=[-20,-10,0,10,20,30,40,50,60,70,80,90,100,110,120,130,140,150,160,170,180,190,200]\n",
        "cp=[3.26,3.34,3.42,3.50,3.58,3.66,3.74,3.82,3.90,3.98,4.06,4.14,4.22,4.31,4.39,4.47,4.55,4.63,4.71,4.79,4.88,4.96,5.04]\n",
        "Xq=DeltaTs;\n",
        "Vq=np.interp(Xq,T,cp);\n",
        "CPs=Vq;\n",
        "print(CPs);"
      ],
      "metadata": {
        "id": "3SnpuXZOGLGA",
        "colab": {
          "base_uri": "https://localhost:8080/"
        },
        "outputId": "f28095b5-ac9c-42e8-f42d-8ed7e7fb8ae3"
      },
      "execution_count": null,
      "outputs": [
        {
          "output_type": "stream",
          "name": "stdout",
          "text": [
            "[3.3592 3.3592 3.3592 ... 3.3632 3.364  3.364 ]\n"
          ]
        }
      ]
    },
    {
      "cell_type": "code",
      "source": [
        "#lets calculate Qsun\n",
        "Qsun=file['DNI_PYR_MES']*10;"
      ],
      "metadata": {
        "id": "bwunD8VuGcST"
      },
      "execution_count": null,
      "outputs": []
    },
    {
      "cell_type": "code",
      "source": [
        "#therefore Qps is\n",
        "Qps=m*CP*DeltaTp+Qsun;\n",
        "print(Qps);"
      ],
      "metadata": {
        "id": "wjHbhi_PG7AP",
        "colab": {
          "base_uri": "https://localhost:8080/"
        },
        "outputId": "976b529f-b03b-4b31-b9fa-3e3e6e51c16a"
      },
      "execution_count": null,
      "outputs": [
        {
          "output_type": "stream",
          "name": "stdout",
          "text": [
            "0        9.833559\n",
            "1       11.601985\n",
            "2       11.189253\n",
            "3       11.585827\n",
            "4       11.007124\n",
            "          ...    \n",
            "1433     8.673611\n",
            "1434     8.094907\n",
            "1435     7.806714\n",
            "1436     9.996762\n",
            "1437     7.599538\n",
            "Length: 1438, dtype: float64\n"
          ]
        }
      ]
    },
    {
      "cell_type": "code",
      "source": [
        "#therefore Qss is\n",
        "Qss=ms*CPs*DeltaTs;\n",
        "print(Qss);"
      ],
      "metadata": {
        "id": "cwNDYHAqG9iv",
        "colab": {
          "base_uri": "https://localhost:8080/"
        },
        "outputId": "8c2def19-2278-4a02-bc97-f185cff37793"
      },
      "execution_count": null,
      "outputs": [
        {
          "output_type": "stream",
          "name": "stdout",
          "text": [
            "0      -11.080701\n",
            "1       -5.540350\n",
            "2       -5.540350\n",
            "3       -5.468753\n",
            "4       -3.693567\n",
            "          ...    \n",
            "1433   -10.364034\n",
            "1434   -10.220491\n",
            "1435   -10.364034\n",
            "1436   -11.923907\n",
            "1437   -11.923907\n",
            "Length: 1438, dtype: float64\n"
          ]
        }
      ]
    },
    {
      "cell_type": "code",
      "source": [
        "#lets try :) t0 plot a graph"
      ],
      "metadata": {
        "id": "hx1i5YB1HK1s"
      },
      "execution_count": null,
      "outputs": []
    },
    {
      "cell_type": "code",
      "source": [
        "#import matplot to use plot function\n",
        "import matplotlib.pyplot as plt\n"
      ],
      "metadata": {
        "id": "rhrIvcBKHdb1"
      },
      "execution_count": null,
      "outputs": []
    },
    {
      "cell_type": "code",
      "source": [
        "#plot graph \n",
        "plt.title('Graph')\n",
        "plt.xlabel('Time')\n",
        "plt.ylabel('Values')\n",
        "x=file['Time']\n",
        "yqps=Qps;\n",
        "yqss=Qss;\n",
        "yqsun=Qsun;\n",
        "plt.plot(x,yqps,label=\"QPs\")\n",
        "plt.plot(x,yqss,label=\"Qss\")\n",
        "plt.plot(x,yqsun,label=\"Qsun\")\n",
        "plt.legend()\n",
        "plt.show()"
      ],
      "metadata": {
        "colab": {
          "base_uri": "https://localhost:8080/",
          "height": 295
        },
        "id": "oF6OSBYWHtvo",
        "outputId": "ea49b910-840d-4044-fa89-fb0a0fa667bc"
      },
      "execution_count": null,
      "outputs": [
        {
          "output_type": "display_data",
          "data": {
            "text/plain": [
              "<Figure size 432x288 with 1 Axes>"
            ],
            "image/png": "[encoded data removed]"
          },
          "metadata": {
            "needs_background": "light"
          }
        }
      ]
    },
    {
      "cell_type": "code",
      "source": [
        "n1_inst=Qsun/Qps;\n",
        "n2_inst=Qps/Qss;\n",
        "print(n1_inst); \n",
        "print(n2_inst);\n"
      ],
      "metadata": {
        "id": "kW2hyIBnJOHj",
        "colab": {
          "base_uri": "https://localhost:8080/"
        },
        "outputId": "465c09e1-03b0-4cc5-bd9d-a9759377d99d"
      },
      "execution_count": null,
      "outputs": [
        {
          "output_type": "stream",
          "name": "stdout",
          "text": [
            "0       0.294249\n",
            "1       0.299278\n",
            "2       0.362037\n",
            "3       0.349645\n",
            "4       0.315452\n",
            "          ...   \n",
            "1433    0.400320\n",
            "1434    0.357449\n",
            "1435    0.444774\n",
            "1436    0.405224\n",
            "1437    0.380749\n",
            "Length: 1438, dtype: float64\n",
            "0      -0.887449\n",
            "1      -2.094089\n",
            "2      -2.019593\n",
            "3      -2.118550\n",
            "4      -2.980080\n",
            "          ...   \n",
            "1433   -0.836895\n",
            "1434   -0.792027\n",
            "1435   -0.753251\n",
            "1436   -0.838380\n",
            "1437   -0.637336\n",
            "Length: 1438, dtype: float64\n"
          ]
        }
      ]
    },
    {
      "cell_type": "code",
      "source": [
        "pappu=1;"
      ],
      "metadata": {
        "id": "DQo26AmuhpL7"
      },
      "execution_count": null,
      "outputs": []
    },
    {
      "cell_type": "code",
      "source": [
        "#finding Qabs\n",
        "from numpy.ma.core import sqrt\n",
        "Tao=0.91;\n",
        "α=0.95;\n",
        "ρ=0.93;\n",
        "w=\n",
        "cos(theta)=sqrt(1-cos(del)*sin(w)**2);\n",
        "Qabs=Qsun*cos(theta)*Tao*α*ρ"
      ],
      "metadata": {
        "id": "p9VvZlFOi0Av"
      },
      "execution_count": null,
      "outputs": []
    },
    {
      "cell_type": "code",
      "source": [
        "#transfer Qss to excel\n",
        "import pandas as pd\n",
        "#print(Qss)\n",
        "export=pd.DataFrame(Qss)"
      ],
      "metadata": {
        "id": "WAQBuXTUuurd"
      },
      "execution_count": null,
      "outputs": []
    },
    {
      "cell_type": "code",
      "source": [
        "export.to_excel(\"QssExport.xlsx\")"
      ],
      "metadata": {
        "id": "tipmumVRwvGl"
      },
      "execution_count": null,
      "outputs": []
    },
    {
      "cell_type": "code",
      "source": [
        ""
      ],
      "metadata": {
        "id": "pgTfgNWjw2T8"
      },
      "execution_count": null,
      "outputs": []
    }
  ]
}