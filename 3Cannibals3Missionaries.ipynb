{
  "nbformat": 4,
  "nbformat_minor": 0,
  "metadata": {
    "colab": {
      "name": "3Cannibals3Missionaries",
      "provenance": [],
      "collapsed_sections": [],
      "include_colab_link": true
    },
    "kernelspec": {
      "display_name": "Python 3",
      "name": "python3"
    }
  },
  "cells": [
    {
      "cell_type": "markdown",
      "metadata": {
        "id": "view-in-github",
        "colab_type": "text"
      },
      "source": [
        "<a href=\"https://colab.research.google.com/github/Ash-The-Bash/Ashish-P/blob/main/3Cannibals3Missionaries.ipynb\" target=\"_parent\"><img src=\"https://colab.research.google.com/assets/colab-badge.svg\" alt=\"Open In Colab\"/></a>"
      ]
    },
    {
      "cell_type": "code",
      "metadata": {
        "colab": {
          "base_uri": "https://localhost:8080/"
        },
        "id": "lIYdn1woOS1n",
        "outputId": "ac96d954-b854-4a94-9e87-8a930144c178"
      },
      "source": [
        "### Your code ###\n",
        "from IPython.display import clear_output\n",
        "#Variables\n",
        "boat_side= 'Right'\n",
        "m_on_right = 3 \n",
        "c_on_right = 3\n",
        "m_on_left = 0\n",
        "c_on_left = 0\n",
        "\n",
        "#initial display\n",
        "print(\"\\n\\n'\\U0001f482'=\",m_on_left , end = \" \")\n",
        "print(\"'\\U0001f479'=\",c_on_left , end = \" \")\n",
        "\n",
        "if boat_side == \"Right\":\n",
        "  print(\"||____'\\U0001f6A2'||\", end = \" \")\n",
        "else:\n",
        "  print(\"||'\\U0001f6A2'____||\", end = \" \")\n",
        "\n",
        "print(\" '\\U0001f482'=\",m_on_right , end = \" \")\n",
        "print(\"'\\U0001f479'=\",c_on_right , end = \" \")  \n",
        "\n",
        "#while loop\n",
        "while True:\n",
        "  M = int(input('\\n\\nEnter number of missionaries: ')) \n",
        "  C = int(input('Enter number of cannibals: '))\n",
        "#boat check\n",
        "  #if (M+C) > 2:\n",
        "    #print(\"Invalid Entry!!\") \n",
        "\n",
        "#right side\n",
        "  if boat_side == \"Right\": \n",
        "\n",
        "    if ((m_on_right < M) or (c_on_right < C)):\n",
        "      print(\"Invalid move\")\n",
        "\n",
        "    else:\n",
        "      m_on_right = m_on_right - M\n",
        "      c_on_right = c_on_right - C\n",
        "      m_on_left = m_on_left + M\n",
        "      c_on_left = c_on_left + C\n",
        "\n",
        "\n",
        "    print(\"\\n\\n '\\U0001f482'=\",m_on_left , end = \" \")\n",
        "    print(\"'\\U0001f479'=\",c_on_left , end = \" \")\n",
        "    print(\"||'\\U0001f6A2'____||\", end = \" \")\n",
        "    print(\" '\\U0001f482'=\",m_on_right , end = \" \")\n",
        "    print(\"'\\U0001f479'=\",c_on_right , end = \" \") \n",
        "    boat_side = 'Left'\n",
        "\n",
        "  #left side\n",
        "  elif boat_side == \"Left\": \n",
        "    if((m_on_left < M) or (c_on_left < C)): \n",
        "      print(\"Invalid move, please try again.\")\n",
        "  \n",
        "    else:  \n",
        "      m_on_left = m_on_left - M\n",
        "      c_on_left = c_on_left - C\n",
        "      m_on_right = m_on_right + M\n",
        "      c_on_right = c_on_right + C\n",
        "\n",
        "      print(\"\\n\\n '\\U0001f482'=\",m_on_left , end = \" \")\n",
        "      print(\"'\\U0001f479'=\",c_on_left , end = \" \")\n",
        "      print(\"||____'\\U0001f6A2'||\", end = \" \")\n",
        "      print(\" '\\U0001f482'=\",m_on_right , end = \" \")\n",
        "      print(\"'\\U0001f479'=\",c_on_right , end = \" \")\n",
        "      boat_side = 'Right'\n",
        "\n",
        "\n",
        "#You lose\n",
        "  if (m_on_right != 0 and m_on_right < c_on_right) or (m_on_left != 0 and m_on_left < c_on_left):\n",
        "        print(\"\\n\\n*****👎YOU LOSE👎*****\")\n",
        "        break\n",
        "\n",
        "#You win\n",
        "  if (m_on_left == 3) and (c_on_left == 3):\n",
        "    print(\"\\n\\n*****👍You WIN👍*****\")\n",
        "    break\n",
        "\n",
        "#game over\n",
        "print(\"*****GAME OVER*****\")\n"
      ],
      "execution_count": null,
      "outputs": [
        {
          "output_type": "stream",
          "name": "stdout",
          "text": [
            "\n",
            "\n",
            "'💂'= 0 '👹'= 0 ||____'🚢'||  '💂'= 3 '👹'= 3 \n",
            "\n",
            "Enter number of missionaries: 1\n",
            "Enter number of cannibals: 1\n",
            "\n",
            "\n",
            " '💂'= 1 '👹'= 1 ||'🚢'____||  '💂'= 2 '👹'= 2 \n",
            "\n",
            "Enter number of missionaries: 1\n",
            "Enter number of cannibals: 0\n",
            "\n",
            "\n",
            " '💂'= 0 '👹'= 1 ||____'🚢'||  '💂'= 3 '👹'= 2 \n",
            "\n",
            "Enter number of missionaries: 2\n",
            "Enter number of cannibals: 0\n",
            "\n",
            "\n",
            " '💂'= 2 '👹'= 1 ||'🚢'____||  '💂'= 1 '👹'= 2 \n",
            "\n",
            "*****👎YOU LOSE👎*****\n",
            "*****GAME OVER*****\n"
          ]
        }
      ]
    },
    {
      "cell_type": "code",
      "metadata": {
        "id": "yW5SRNGRGna1"
      },
      "source": [
        ""
      ],
      "execution_count": null,
      "outputs": []
    }
  ]
}